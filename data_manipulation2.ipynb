{
 "cells": [
  {
   "cell_type": "code",
   "execution_count": 42,
   "metadata": {},
   "outputs": [],
   "source": [
    "import time\n",
    "#import pydoocs\n",
    "import numpy as np\n",
    "import matplotlib.pyplot as plt\n",
    "import h5py\n",
    "import pandas as pd\n",
    "#import cv2\n",
    "#import seaborn as sns\n",
    "import struct\n",
    "import pprint"
   ]
  },
  {
   "cell_type": "code",
   "execution_count": 20,
   "metadata": {},
   "outputs": [],
   "source": [
    "#f1=h5py.File('PBD2_VRFD_pbd2_stream_6_run52040_file130_20240227T155051.hdf5','r+')"
   ]
  },
  {
   "cell_type": "code",
   "execution_count": 47,
   "metadata": {},
   "outputs": [],
   "source": [
    "f=h5py.File('PBD2_VRFD_pbd2_stream_6_run52040_file132_20240227T155455O.hdf5', 'r+')"
   ]
  },
  {
   "cell_type": "code",
   "execution_count": 48,
   "metadata": {},
   "outputs": [
    {
     "name": "stdout",
     "output_type": "stream",
     "text": [
      "1942844769\n",
      "1942845471\n"
     ]
    }
   ],
   "source": [
    "print(f['FLASH.SDIAG/BCM.DAQ/FL2.SEED5.1/TrainId'][2])\n",
    "\n",
    "print(f['FLASH.SDIAG/BCM.DAQ/FL2.SEED5.1/TrainId'][-1])"
   ]
  },
  {
   "cell_type": "code",
   "execution_count": null,
   "metadata": {},
   "outputs": [],
   "source": []
  },
  {
   "cell_type": "code",
   "execution_count": 57,
   "metadata": {},
   "outputs": [],
   "source": [
    "f=h5py.File('linac_main_run52036_file5249_20240227T155449.hdf5', 'r')"
   ]
  },
  {
   "cell_type": "code",
   "execution_count": 59,
   "metadata": {},
   "outputs": [
    {
     "name": "stdout",
     "output_type": "stream",
     "text": [
      "1942844702\n",
      "1942844912\n"
     ]
    }
   ],
   "source": [
    "print(f['FLASH.DIAG/BEAM_ENERGY_MEASUREMENT/FL2XTDS/ENERGY.FLASH2/TrainId'][1])\n",
    "print(f['FLASH.DIAG/BEAM_ENERGY_MEASUREMENT/FL2XTDS/ENERGY.FLASH2/TrainId'][-1])"
   ]
  },
  {
   "cell_type": "code",
   "execution_count": 63,
   "metadata": {},
   "outputs": [
    {
     "name": "stdout",
     "output_type": "stream",
     "text": [
      "68\n"
     ]
    }
   ],
   "source": [
    "ff=np.where(f['FLASH.DIAG/BEAM_ENERGY_MEASUREMENT/FL2XTDS/ENERGY.FLASH2/TrainId'][:]==1942844769)\n",
    "print(ff[0][0])\n"
   ]
  },
  {
   "cell_type": "code",
   "execution_count": 64,
   "metadata": {},
   "outputs": [
    {
     "name": "stdout",
     "output_type": "stream",
     "text": [
      "(144,)\n",
      "(355,)\n",
      "(566,)\n",
      "(777,)\n",
      "(988,)\n"
     ]
    }
   ],
   "source": [
    "\n",
    "Ind=67\n",
    "Id=4320\n",
    "\n",
    "f=h5py.File('linac_main_run52036_file5249_20240227T155449.hdf5', 'r')\n",
    "\n",
    "BAM_UBC1=f['FLASH.SDIAG/BAM.DAQ/FL0.UBC1.ARRIVAL_TIME.RELATIVE/Value'][-(211-Ind):, Id]\n",
    "BAM_UBC2=f['FLASH.SDIAG/BAM.DAQ/FL0.UBC2.ARRIVAL_TIME.RELATIVE/Value'][-(211-Ind):, Id]\n",
    "TrainId_BAMu=f['FLASH.SDIAG/BAM.DAQ/FL0.UBC1.ARRIVAL_TIME.RELATIVE/TrainId'][-(211-Ind):]\n",
    "TrainId_BAM2u=f['FLASH.SDIAG/BAM.DAQ/FL0.UBC2.ARRIVAL_TIME.RELATIVE/TrainId'][-(211-Ind):]\n",
    "\n",
    "charge_gun3=f['FLASH.DIAG/TOROID/3GUN/CHARGE.TD'][-(211-Ind):,480]\n",
    "TrainID_charg=f['FLASH.DIAG/TOROID/3GUN/TrainId'][-(211-Ind):]\n",
    "ENERGY_FLASH2=f['FLASH.DIAG/BEAM_ENERGY_MEASUREMENT/FL2XTDS/ENERGY.FLASH2/Value'][-(211-Ind):]\n",
    "TrainId_energy=f['FLASH.DIAG/BEAM_ENERGY_MEASUREMENT/FL2XTDS/ENERGY.FLASH2/TrainId'][-(211-Ind):]\n",
    "print(TrainId_BAMu.shape)\n",
    "#################################\n",
    "f=h5py.File('linac_main_run52036_file5250_20240227T155510.hdf5', 'r')\n",
    "\n",
    "BAM_UBC1=np.append(BAM_UBC1, [f['FLASH.SDIAG/BAM.DAQ/FL0.UBC1.ARRIVAL_TIME.RELATIVE/Value'][:, Id]]);\n",
    "BAM_UBC2=np.append(BAM_UBC2, [f['FLASH.SDIAG/BAM.DAQ/FL0.UBC2.ARRIVAL_TIME.RELATIVE/Value'][:, Id]]);\n",
    "TrainId_BAMu=np.append(TrainId_BAMu,[f['FLASH.SDIAG/BAM.DAQ/FL0.UBC1.ARRIVAL_TIME.RELATIVE/TrainId'][:]])\n",
    "TrainId_BAM2u=np.append(TrainId_BAM2u,[f['FLASH.SDIAG/BAM.DAQ/FL0.UBC2.ARRIVAL_TIME.RELATIVE/TrainId'][:]])\n",
    "####\n",
    "charge_gun3=np.append(charge_gun3,[f['FLASH.DIAG/TOROID/3GUN/CHARGE.TD'][:,480]])\n",
    "TrainID_charg=np.append(TrainID_charg, [f['FLASH.DIAG/TOROID/3GUN/TrainId'][:]])\n",
    "ENERGY_FLASH2=np.append(ENERGY_FLASH2,[f['FLASH.DIAG/BEAM_ENERGY_MEASUREMENT/FL2XTDS/ENERGY.FLASH2/Value'][:]])\n",
    "TrainId_energy=np.append(TrainId_energy, [f['FLASH.DIAG/BEAM_ENERGY_MEASUREMENT/FL2XTDS/ENERGY.FLASH2/TrainId'][:]])\n",
    "print(TrainId_BAMu.shape)\n",
    "##############################\n",
    "f=h5py.File('linac_main_run52036_file5251_20240227T155531.hdf5', 'r')\n",
    "\n",
    "BAM_UBC1=np.append(BAM_UBC1, [f['FLASH.SDIAG/BAM.DAQ/FL0.UBC1.ARRIVAL_TIME.RELATIVE/Value'][:, Id]]);\n",
    "BAM_UBC2=np.append(BAM_UBC2, [f['FLASH.SDIAG/BAM.DAQ/FL0.UBC2.ARRIVAL_TIME.RELATIVE/Value'][:, Id]]);\n",
    "TrainId_BAMu=np.append(TrainId_BAMu,[f['FLASH.SDIAG/BAM.DAQ/FL0.UBC1.ARRIVAL_TIME.RELATIVE/TrainId'][:]])\n",
    "TrainId_BAM2u=np.append(TrainId_BAM2u,[f['FLASH.SDIAG/BAM.DAQ/FL0.UBC2.ARRIVAL_TIME.RELATIVE/TrainId'][:]])\n",
    "####\n",
    "charge_gun3=np.append(charge_gun3,[f['FLASH.DIAG/TOROID/3GUN/CHARGE.TD'][:,480]])\n",
    "TrainID_charg=np.append(TrainID_charg, [f['FLASH.DIAG/TOROID/3GUN/TrainId'][:]])\n",
    "ENERGY_FLASH2=np.append(ENERGY_FLASH2,[f['FLASH.DIAG/BEAM_ENERGY_MEASUREMENT/FL2XTDS/ENERGY.FLASH2/Value'][:]])\n",
    "TrainId_energy=np.append(TrainId_energy, [f['FLASH.DIAG/BEAM_ENERGY_MEASUREMENT/FL2XTDS/ENERGY.FLASH2/TrainId'][:]])\n",
    "print(TrainId_BAMu.shape)\n",
    "##############################\n",
    "f=h5py.File('linac_main_run52036_file5252_20240227T155552.hdf5', 'r')\n",
    "\n",
    "BAM_UBC1=np.append(BAM_UBC1, [f['FLASH.SDIAG/BAM.DAQ/FL0.UBC1.ARRIVAL_TIME.RELATIVE/Value'][:, Id]]);\n",
    "BAM_UBC2=np.append(BAM_UBC2, [f['FLASH.SDIAG/BAM.DAQ/FL0.UBC2.ARRIVAL_TIME.RELATIVE/Value'][:, Id]]);\n",
    "TrainId_BAMu=np.append(TrainId_BAMu,[f['FLASH.SDIAG/BAM.DAQ/FL0.UBC1.ARRIVAL_TIME.RELATIVE/TrainId'][:]])\n",
    "TrainId_BAM2u=np.append(TrainId_BAM2u,[f['FLASH.SDIAG/BAM.DAQ/FL0.UBC2.ARRIVAL_TIME.RELATIVE/TrainId'][:]])\n",
    "####\n",
    "charge_gun3=np.append(charge_gun3,[f['FLASH.DIAG/TOROID/3GUN/CHARGE.TD'][:,480]])\n",
    "TrainID_charg=np.append(TrainID_charg, [f['FLASH.DIAG/TOROID/3GUN/TrainId'][:]])\n",
    "ENERGY_FLASH2=np.append(ENERGY_FLASH2,[f['FLASH.DIAG/BEAM_ENERGY_MEASUREMENT/FL2XTDS/ENERGY.FLASH2/Value'][:]])\n",
    "TrainId_energy=np.append(TrainId_energy, [f['FLASH.DIAG/BEAM_ENERGY_MEASUREMENT/FL2XTDS/ENERGY.FLASH2/TrainId'][:]])\n",
    "print(TrainId_BAMu.shape)\n",
    "\n",
    "#################################################\n",
    "f=h5py.File('linac_main_run52036_file5253_20240227T155613.hdf5', 'r')\n",
    "\n",
    "BAM_UBC1=np.append(BAM_UBC1, [f['FLASH.SDIAG/BAM.DAQ/FL0.UBC1.ARRIVAL_TIME.RELATIVE/Value'][:, Id]]);\n",
    "BAM_UBC2=np.append(BAM_UBC2, [f['FLASH.SDIAG/BAM.DAQ/FL0.UBC2.ARRIVAL_TIME.RELATIVE/Value'][:, Id]]);\n",
    "TrainId_BAMu=np.append(TrainId_BAMu,[f['FLASH.SDIAG/BAM.DAQ/FL0.UBC1.ARRIVAL_TIME.RELATIVE/TrainId'][:]])\n",
    "TrainId_BAM2u=np.append(TrainId_BAM2u,[f['FLASH.SDIAG/BAM.DAQ/FL0.UBC2.ARRIVAL_TIME.RELATIVE/TrainId'][:]])\n",
    "####\n",
    "charge_gun3=np.append(charge_gun3,[f['FLASH.DIAG/TOROID/3GUN/CHARGE.TD'][:,480]])\n",
    "TrainID_charg=np.append(TrainID_charg, [f['FLASH.DIAG/TOROID/3GUN/TrainId'][:]])\n",
    "ENERGY_FLASH2=np.append(ENERGY_FLASH2,[f['FLASH.DIAG/BEAM_ENERGY_MEASUREMENT/FL2XTDS/ENERGY.FLASH2/Value'][:]])\n",
    "TrainId_energy=np.append(TrainId_energy, [f['FLASH.DIAG/BEAM_ENERGY_MEASUREMENT/FL2XTDS/ENERGY.FLASH2/TrainId'][:]])\n",
    "print(TrainId_BAMu.shape)\n",
    "\n",
    "\n"
   ]
  },
  {
   "cell_type": "code",
   "execution_count": 65,
   "metadata": {},
   "outputs": [],
   "source": [
    "f.close()\n",
    "import tables\n",
    "tables.file._open_files.close_all()"
   ]
  },
  {
   "cell_type": "code",
   "execution_count": 66,
   "metadata": {},
   "outputs": [],
   "source": [
    "f=h5py.File('PBD2_VRFD_pbd2_stream_6_run52040_file132_20240227T155455O.hdf5', 'r+')"
   ]
  },
  {
   "cell_type": "code",
   "execution_count": null,
   "metadata": {},
   "outputs": [],
   "source": []
  },
  {
   "cell_type": "code",
   "execution_count": 67,
   "metadata": {},
   "outputs": [],
   "source": [
    "dset = f.create_dataset('FLASH.SDIAG/BAM.DAQ/FL0.UBC1.ARRIVAL_TIME.RELATIVE/Value',   data=BAM_UBC1[:])\n",
    "dset = f.create_dataset('FLASH.SDIAG/BAM.DAQ/FL0.UBC1.ARRIVAL_TIME.RELATIVE/TrainId', data=TrainId_BAMu[:])\n",
    "dset = f.create_dataset('FLASH.SDIAG/BAM.DAQ/FL0.UBC2.ARRIVAL_TIME.RELATIVE/Value',   data=BAM_UBC2[:])\n",
    "dset = f.create_dataset('FLASH.SDIAG/BAM.DAQ/FL0.UBC2.ARRIVAL_TIME.RELATIVE/TrainId', data=TrainId_BAM2u[:])\n",
    "dset = f.create_dataset('FLASH.DIAG/TOROID/Gun3/Value',     data=charge_gun3[:])\n",
    "dset = f.create_dataset('FLASH.DIAG/TOROID/Gun3/TrainID',   data=TrainID_charg[:])\n",
    "dset = f.create_dataset('FLASH.DIAG/ENERGY_FLASH2/TrainID', data=TrainId_energy[:])\n",
    "dset = f.create_dataset('FLASH.DIAG/ENERGY_FLASH2/Value',   data=ENERGY_FLASH2[:])\n"
   ]
  },
  {
   "cell_type": "code",
   "execution_count": 68,
   "metadata": {},
   "outputs": [
    {
     "data": {
      "text/plain": [
       "[<matplotlib.lines.Line2D at 0x7f5cd51ff6d8>]"
      ]
     },
     "execution_count": 68,
     "metadata": {},
     "output_type": "execute_result"
    },
    {
     "data": {
      "image/png": "[encoded data removed]",
      "text/plain": [
       "<Figure size 432x288 with 1 Axes>"
      ]
     },
     "metadata": {
      "needs_background": "light"
     },
     "output_type": "display_data"
    }
   ],
   "source": [
    "plt.plot(f['FLASH.DIAG/ENERGY_FLASH2/Value'][:])"
   ]
  },
  {
   "cell_type": "code",
   "execution_count": 69,
   "metadata": {},
   "outputs": [
    {
     "name": "stdout",
     "output_type": "stream",
     "text": [
      "1942844769\n",
      "1942844769\n",
      "1942844769\n",
      "1942844767\n",
      "1942844767\n",
      "1942844767\n",
      "1942844767\n",
      "1942844767\n",
      "1942845473\n",
      "1942845756\n",
      "1942845756\n",
      "1942845471\n",
      "1942845471\n",
      "1942845471\n",
      "1942845471\n",
      "1942845471\n"
     ]
    }
   ],
   "source": [
    "print(f['FLASH.DIAG/CAMERA/OTR9FL2XTDS/TrainId'][0])\n",
    "print(f['FLASH.SDIAG/BAM.DAQ/FL0.UBC2.ARRIVAL_TIME.RELATIVE/TrainId'][0])\n",
    "print(f['FLASH.SDIAG/BAM.DAQ/FL0.UBC1.ARRIVAL_TIME.RELATIVE/TrainId'][0])\n",
    "print(f['FLASH.SDIAG/BAM.DAQ/FL0.DBC2.ARRIVAL_TIME.RELATIVE/TrainId'][0])\n",
    "print(f['FLASH.SDIAG/BAM.DAQ/FL0.DBC1.ARRIVAL_TIME.RELATIVE/TrainId'][0])\n",
    "print(f['FLASH.SDIAG/BAM.DAQ/FL2.SEED5.ARRIVAL_TIME.RELATIVE/TrainId'][0])\n",
    "print(f['FLASH.SDIAG/BCM.DAQ/FL0.DBC1.2/TrainId'][0])\n",
    "print(f['FLASH.SDIAG/BCM.DAQ/FL0.DBC2.2/TrainId'][0])\n",
    "print(f['FLASH.DIAG/CAMERA/OTR9FL2XTDS/TrainId'][-1])\n",
    "print(f['FLASH.SDIAG/BAM.DAQ/FL0.UBC2.ARRIVAL_TIME.RELATIVE/TrainId'][-1])\n",
    "print(f['FLASH.SDIAG/BAM.DAQ/FL0.UBC1.ARRIVAL_TIME.RELATIVE/TrainId'][-1])\n",
    "print(f['FLASH.SDIAG/BAM.DAQ/FL0.DBC2.ARRIVAL_TIME.RELATIVE/TrainId'][-1])\n",
    "print(f['FLASH.SDIAG/BAM.DAQ/FL0.DBC1.ARRIVAL_TIME.RELATIVE/TrainId'][-1])\n",
    "print(f['FLASH.SDIAG/BAM.DAQ/FL2.SEED5.ARRIVAL_TIME.RELATIVE/TrainId'][-1])\n",
    "print(f['FLASH.SDIAG/BCM.DAQ/FL0.DBC1.2/TrainId'][-1])\n",
    "print(f['FLASH.SDIAG/BCM.DAQ/FL0.DBC2.2/TrainId'][-1])\n"
   ]
  },
  {
   "cell_type": "code",
   "execution_count": 70,
   "metadata": {},
   "outputs": [],
   "source": [
    "f.close()\n",
    "import tables\n",
    "tables.file._open_files.close_all()"
   ]
  },
  {
   "cell_type": "code",
   "execution_count": null,
   "metadata": {},
   "outputs": [],
   "source": []
  }
 ],
 "metadata": {
  "kernelspec": {
   "display_name": "Python 3",
   "language": "python",
   "name": "python3"
  },
  "language_info": {
   "codemirror_mode": {
    "name": "ipython",
    "version": 3
   },
   "file_extension": ".py",
   "mimetype": "text/x-python",
   "name": "python",
   "nbconvert_exporter": "python",
   "pygments_lexer": "ipython3",
   "version": "3.6.9"
  }
 },
 "nbformat": 4,
 "nbformat_minor": 4
}
