{
 "cells": [
  {
   "cell_type": "code",
   "execution_count": 138,
   "id": "b8972532-a94c-43b0-8e3a-192795bf8ee1",
   "metadata": {},
   "outputs": [],
   "source": [
    "import time\n",
    "#import pydoocs\n",
    "import numpy as np\n",
    "import matplotlib.pyplot as plt\n",
    "import h5py\n",
    "import pandas as pd\n",
    "#import cv2\n",
    "import seaborn as sns\n",
    "import struct\n",
    "import pprint"
   ]
  },
  {
   "cell_type": "code",
   "execution_count": 135,
   "id": "e460d19e-5fd8-4e98-aab2-b73cac021954",
   "metadata": {},
   "outputs": [
    {
     "name": "stdout",
     "output_type": "stream",
     "text": [
      "<KeysViewHDF5 ['FLASH.DIAG', 'FLASH.SDIAG']>\n"
     ]
    },
    {
     "data": {
      "text/plain": [
       "(array([131]),)"
      ]
     },
     "execution_count": 135,
     "metadata": {},
     "output_type": "execute_result"
    }
   ],
   "source": [
    "f=h5py.File('linac_main_run52036_file5191_20240227T153423.hdf5', 'r')\n",
    "print(f.keys())\n",
    "np.where(f['FLASH.DIAG/BEAM_ENERGY_MEASUREMENT/FL2XTDS/ENERGY.FLASH2/TrainId'][:]==1942832577)"
   ]
  },
  {
   "cell_type": "code",
   "execution_count": 136,
   "id": "c02aa9f7-d8e3-4718-be46-6bcab875ad1c",
   "metadata": {},
   "outputs": [
    {
     "data": {
      "text/plain": [
       "<KeysViewHDF5 ['BEAM_ENERGY_MEASUREMENT', 'TIMINGINFO', 'TOROID']>"
      ]
     },
     "execution_count": 136,
     "metadata": {},
     "output_type": "execute_result"
    }
   ],
   "source": [
    "f['FLASH.DIAG'].keys()"
   ]
  },
  {
   "cell_type": "code",
   "execution_count": 75,
   "id": "d625bc32-09c5-49db-8afe-cd79d4ffdc74",
   "metadata": {},
   "outputs": [
    {
     "name": "stdout",
     "output_type": "stream",
     "text": [
      "<KeysViewHDF5 ['FL2XTDS']>\n",
      "<KeysViewHDF5 ['ENERGY.ALL', 'ENERGY.FLASH2']>\n",
      "<KeysViewHDF5 ['TimeStamp', 'TrainId', 'Value']>\n"
     ]
    }
   ],
   "source": [
    "print(f['FLASH.DIAG/BEAM_ENERGY_MEASUREMENT'].keys())\n",
    "print(f['FLASH.DIAG/BEAM_ENERGY_MEASUREMENT/FL2XTDS'].keys())\n",
    "print(f['FLASH.DIAG/BEAM_ENERGY_MEASUREMENT/FL2XTDS/ENERGY.FLASH2'].keys())"
   ]
  },
  {
   "cell_type": "code",
   "execution_count": 76,
   "id": "55529255-5910-4215-abff-9a90511d2c80",
   "metadata": {},
   "outputs": [
    {
     "name": "stdout",
     "output_type": "stream",
     "text": [
      "1942831813\n",
      "1942832024\n"
     ]
    }
   ],
   "source": [
    "print(f['FLASH.DIAG/BEAM_ENERGY_MEASUREMENT/FL2XTDS/ENERGY.FLASH2/TrainId'][0])\n",
    "print(f['FLASH.DIAG/BEAM_ENERGY_MEASUREMENT/FL2XTDS/ENERGY.FLASH2/TrainId'][-1])"
   ]
  },
  {
   "cell_type": "code",
   "execution_count": 77,
   "id": "b7e22f11-e2cb-4f33-9e7f-9efedcc8bb93",
   "metadata": {},
   "outputs": [],
   "source": [
    "#np.where(f['FLASH.DIAG/BEAM_ENERGY_MEASUREMENT/FL2XTDS/ENERGY.FLASH2/TrainId'][:]==1942831157)"
   ]
  },
  {
   "cell_type": "code",
   "execution_count": 108,
   "id": "2ac4b8bb-5fa6-476e-8a71-aaf049c8b684",
   "metadata": {},
   "outputs": [
    {
     "data": {
      "text/plain": [
       "1942832577"
      ]
     },
     "execution_count": 108,
     "metadata": {},
     "output_type": "execute_result"
    }
   ],
   "source": [
    "Ind=131\n",
    "f['FLASH.DIAG/BEAM_ENERGY_MEASUREMENT/FL2XTDS/ENERGY.FLASH2/TrainId'][Ind]"
   ]
  },
  {
   "cell_type": "code",
   "execution_count": 109,
   "id": "84e550b5-d7c2-488a-a37f-44222ef30d02",
   "metadata": {},
   "outputs": [
    {
     "data": {
      "text/plain": [
       "211"
      ]
     },
     "execution_count": 109,
     "metadata": {},
     "output_type": "execute_result"
    }
   ],
   "source": [
    "len(f['FLASH.DIAG/BEAM_ENERGY_MEASUREMENT/FL2XTDS/ENERGY.FLASH2/TrainId'])"
   ]
  },
  {
   "cell_type": "code",
   "execution_count": 110,
   "id": "5a264ae5-4e94-4508-a1ad-da82181bf36a",
   "metadata": {},
   "outputs": [
    {
     "data": {
      "text/plain": [
       "<HDF5 dataset \"Value\": shape (211,), type \"<f4\">"
      ]
     },
     "execution_count": 110,
     "metadata": {},
     "output_type": "execute_result"
    }
   ],
   "source": [
    "f['FLASH.DIAG/BEAM_ENERGY_MEASUREMENT/FL2XTDS/ENERGY.ALL/Value']"
   ]
  },
  {
   "cell_type": "code",
   "execution_count": 111,
   "id": "12516857-00ab-4aa4-9cbc-58941b530ab5",
   "metadata": {},
   "outputs": [],
   "source": [
    "\n",
    "\n",
    "#plt.plot(f['FLASH.DIAG/BEAM_ENERGY_MEASUREMENT/FL2XTDS/ENERGY.FLASH2/Value'][:],f['FLASH.DIAG/BEAM_ENERGY_MEASUREMENT/FL2XTDS/ENERGY.ALL/Value'][:] )"
   ]
  },
  {
   "cell_type": "code",
   "execution_count": 112,
   "id": "b2fc1b88-53be-49bc-a9fc-4f0b2f35fcb7",
   "metadata": {},
   "outputs": [
    {
     "name": "stdout",
     "output_type": "stream",
     "text": [
      "<KeysViewHDF5 ['3GUN']>\n",
      "<KeysViewHDF5 ['CHARGE.TD', 'TimeStamp', 'TrainId']>\n",
      "<HDF5 dataset \"CHARGE.TD\": shape (211, 802), type \"<f4\">\n"
     ]
    },
    {
     "data": {
      "text/plain": [
       "1942832577"
      ]
     },
     "execution_count": 112,
     "metadata": {},
     "output_type": "execute_result"
    }
   ],
   "source": [
    "print(f['FLASH.DIAG/TOROID'].keys())\n",
    "print(f['FLASH.DIAG/TOROID/3GUN'].keys())\n",
    "print(f['FLASH.DIAG/TOROID/3GUN/CHARGE.TD'])\n",
    "f['FLASH.DIAG/TOROID/3GUN/TrainId'][Ind]"
   ]
  },
  {
   "cell_type": "code",
   "execution_count": 113,
   "id": "35a7a99c-da9d-47f4-9806-8a83b4137ba6",
   "metadata": {},
   "outputs": [
    {
     "name": "stdout",
     "output_type": "stream",
     "text": [
      "[798 799 800]\n"
     ]
    },
    {
     "data": {
      "text/plain": [
       "0.20085"
      ]
     },
     "execution_count": 113,
     "metadata": {},
     "output_type": "execute_result"
    }
   ],
   "source": [
    "#plt.plot(f['FLASH.DIAG/TOROID/3GUN/CHARGE.TD'][1,:], '.')\n",
    "LL=np.nonzero(f['FLASH.DIAG/TOROID/3GUN/CHARGE.TD'][1,:])\n",
    "print(LL[0][-4:-1])\n",
    "f['FLASH.DIAG/TOROID/3GUN/CHARGE.TD'][1,480]"
   ]
  },
  {
   "cell_type": "code",
   "execution_count": 114,
   "id": "adbbf443-6eb4-472f-a52b-443c431e3444",
   "metadata": {},
   "outputs": [
    {
     "data": {
      "text/plain": [
       "<KeysViewHDF5 ['FLASH.DIAG', 'FLASH.SDIAG']>"
      ]
     },
     "execution_count": 114,
     "metadata": {},
     "output_type": "execute_result"
    }
   ],
   "source": [
    "f.keys()"
   ]
  },
  {
   "cell_type": "code",
   "execution_count": 115,
   "id": "3cb27257-5a1a-41a8-ad34-6258ab9a2e7a",
   "metadata": {},
   "outputs": [
    {
     "name": "stdout",
     "output_type": "stream",
     "text": [
      "<KeysViewHDF5 ['FL0.UBC1.ARRIVAL_TIME.RELATIVE', 'FL0.UBC2.ARRIVAL_TIME.RELATIVE']>\n",
      "<KeysViewHDF5 ['TimeStamp', 'TrainId', 'Value']>\n"
     ]
    }
   ],
   "source": [
    "print(f['FLASH.SDIAG/BAM.DAQ/'].keys())\n",
    "print(f['FLASH.SDIAG/BAM.DAQ/FL0.UBC1.ARRIVAL_TIME.RELATIVE'].keys())"
   ]
  },
  {
   "cell_type": "code",
   "execution_count": 116,
   "id": "d92e23b4-92c1-4d21-898c-8261eb82b407",
   "metadata": {},
   "outputs": [],
   "source": [
    "#f['FLASH.SDIAG/BAM.DAQ/FL0.UBC1.ARRIVAL_TIME.RELATIVE/TrainId'][:]- \\\n",
    "#f['FLASH.SDIAG/BAM.DAQ/FL0.UBC2.ARRIVAL_TIME.RELATIVE/TrainId'][:]"
   ]
  },
  {
   "cell_type": "code",
   "execution_count": null,
   "id": "51cf0d7b-1f9c-410a-bc19-7d8cb9b42b77",
   "metadata": {},
   "outputs": [],
   "source": []
  },
  {
   "cell_type": "code",
   "execution_count": 117,
   "id": "e7604ddc-22cd-4fd6-b159-8eec4c4cabc3",
   "metadata": {},
   "outputs": [
    {
     "data": {
      "text/plain": [
       "1942831867"
      ]
     },
     "execution_count": 117,
     "metadata": {},
     "output_type": "execute_result"
    }
   ],
   "source": [
    "TrainId_BAMu[0]"
   ]
  },
  {
   "cell_type": "code",
   "execution_count": 28,
   "id": "aaad72ed-d7c0-4aed-ae1c-15f7e0b0abaf",
   "metadata": {},
   "outputs": [
    {
     "data": {
      "text/plain": [
       "<HDF5 dataset \"Value\": shape (211, 7222), type \"<f4\">"
      ]
     },
     "execution_count": 28,
     "metadata": {},
     "output_type": "execute_result"
    }
   ],
   "source": [
    "f['FLASH.SDIAG/BAM.DAQ/FL0.UBC1.ARRIVAL_TIME.RELATIVE/Value']"
   ]
  },
  {
   "cell_type": "code",
   "execution_count": 85,
   "id": "d815f536-d370-4f62-999f-4fc5ca5fa338",
   "metadata": {},
   "outputs": [
    {
     "data": {
      "text/plain": [
       "4320"
      ]
     },
     "execution_count": 85,
     "metadata": {},
     "output_type": "execute_result"
    }
   ],
   "source": [
    "#plt.plot(f['FLASH.SDIAG/BAM.DAQ/FL0.UBC1.ARRIVAL_TIME.RELATIVE/Value'][1,:],'.')\n",
    "LL=np.nonzero(f['FLASH.SDIAG/BAM.DAQ/FL0.UBC2.ARRIVAL_TIME.RELATIVE/Value'][1,:])\n",
    "Id=LL[0][-3]\n",
    "Id"
   ]
  },
  {
   "cell_type": "code",
   "execution_count": 64,
   "id": "efab8e4d-4f4b-44f5-abb5-b0d8871beaa0",
   "metadata": {},
   "outputs": [],
   "source": [
    "# first file we go to the second file "
   ]
  },
  {
   "cell_type": "code",
   "execution_count": 118,
   "id": "927dabfc-82d9-4b21-9ee2-6f105ecaa8fa",
   "metadata": {},
   "outputs": [
    {
     "data": {
      "text/plain": [
       "131"
      ]
     },
     "execution_count": 118,
     "metadata": {},
     "output_type": "execute_result"
    }
   ],
   "source": [
    "Ind"
   ]
  },
  {
   "cell_type": "code",
   "execution_count": 119,
   "id": "8155eaa0-3d72-40f8-a1c8-ae6366f94e18",
   "metadata": {},
   "outputs": [
    {
     "data": {
      "text/plain": [
       "4320"
      ]
     },
     "execution_count": 119,
     "metadata": {},
     "output_type": "execute_result"
    }
   ],
   "source": [
    "Id"
   ]
  },
  {
   "cell_type": "code",
   "execution_count": 149,
   "id": "cd8314c9-4bb6-42d2-b348-7099a5ba8eb9",
   "metadata": {},
   "outputs": [
    {
     "name": "stdout",
     "output_type": "stream",
     "text": [
      "(81,)\n",
      "(293,)\n",
      "(505,)\n",
      "(716,)\n"
     ]
    }
   ],
   "source": [
    "Ind=130\n",
    "Id=4320\n",
    "\n",
    "f=h5py.File('linac_main_run52036_file5191_20240227T153423.hdf5', 'r')\n",
    "\n",
    "BAM_UBC1=f['FLASH.SDIAG/BAM.DAQ/FL0.UBC1.ARRIVAL_TIME.RELATIVE/Value'][-(211-Ind):, Id]\n",
    "BAM_UBC2=f['FLASH.SDIAG/BAM.DAQ/FL0.UBC2.ARRIVAL_TIME.RELATIVE/Value'][-(211-Ind):, Id]\n",
    "TrainId_BAMu=f['FLASH.SDIAG/BAM.DAQ/FL0.UBC1.ARRIVAL_TIME.RELATIVE/TrainId'][-(211-Ind):]\n",
    "TrainId_BAM2u=f['FLASH.SDIAG/BAM.DAQ/FL0.UBC2.ARRIVAL_TIME.RELATIVE/TrainId'][-(211-Ind):]\n",
    "\n",
    "charge_gun3=f['FLASH.DIAG/TOROID/3GUN/CHARGE.TD'][-(211-Ind):,480]\n",
    "TrainID_charg=f['FLASH.DIAG/TOROID/3GUN/TrainId'][-(211-Ind):]\n",
    "ENERGY_FLASH2=f['FLASH.DIAG/BEAM_ENERGY_MEASUREMENT/FL2XTDS/ENERGY.FLASH2/Value'][-(211-Ind):]\n",
    "TrainId_energy=f['FLASH.DIAG/BEAM_ENERGY_MEASUREMENT/FL2XTDS/ENERGY.FLASH2/TrainId'][-(211-Ind):]\n",
    "print(TrainId_BAMu.shape)\n",
    "#################################\n",
    "f=h5py.File('linac_main_run52036_file5192_20240227T153444.hdf5', 'r')\n",
    "\n",
    "BAM_UBC1=np.append(BAM_UBC1, [f['FLASH.SDIAG/BAM.DAQ/FL0.UBC1.ARRIVAL_TIME.RELATIVE/Value'][:, Id]]);\n",
    "BAM_UBC2=np.append(BAM_UBC2, [f['FLASH.SDIAG/BAM.DAQ/FL0.UBC2.ARRIVAL_TIME.RELATIVE/Value'][:, Id]]);\n",
    "TrainId_BAMu=np.append(TrainId_BAMu,[f['FLASH.SDIAG/BAM.DAQ/FL0.UBC1.ARRIVAL_TIME.RELATIVE/TrainId'][:]])\n",
    "TrainId_BAM2u=np.append(TrainId_BAM2u,[f['FLASH.SDIAG/BAM.DAQ/FL0.UBC2.ARRIVAL_TIME.RELATIVE/TrainId'][:]])\n",
    "####\n",
    "charge_gun3=np.append(charge_gun3,[f['FLASH.DIAG/TOROID/3GUN/CHARGE.TD'][:,480]])\n",
    "TrainID_charg=np.append(TrainID_charg, [f['FLASH.DIAG/TOROID/3GUN/TrainId'][:]])\n",
    "ENERGY_FLASH2=np.append(ENERGY_FLASH2,[f['FLASH.DIAG/BEAM_ENERGY_MEASUREMENT/FL2XTDS/ENERGY.FLASH2/Value'][:]])\n",
    "TrainId_energy=np.append(TrainId_energy, [f['FLASH.DIAG/BEAM_ENERGY_MEASUREMENT/FL2XTDS/ENERGY.FLASH2/TrainId'][:]])\n",
    "print(TrainId_BAMu.shape)\n",
    "##############################\n",
    "f=h5py.File('linac_main_run52036_file5193_20240227T153505.hdf5', 'r')\n",
    "\n",
    "BAM_UBC1=np.append(BAM_UBC1, [f['FLASH.SDIAG/BAM.DAQ/FL0.UBC1.ARRIVAL_TIME.RELATIVE/Value'][:, Id]]);\n",
    "BAM_UBC2=np.append(BAM_UBC2, [f['FLASH.SDIAG/BAM.DAQ/FL0.UBC2.ARRIVAL_TIME.RELATIVE/Value'][:, Id]]);\n",
    "TrainId_BAMu=np.append(TrainId_BAMu,[f['FLASH.SDIAG/BAM.DAQ/FL0.UBC1.ARRIVAL_TIME.RELATIVE/TrainId'][:]])\n",
    "TrainId_BAM2u=np.append(TrainId_BAM2u,[f['FLASH.SDIAG/BAM.DAQ/FL0.UBC2.ARRIVAL_TIME.RELATIVE/TrainId'][:]])\n",
    "####\n",
    "charge_gun3=np.append(charge_gun3,[f['FLASH.DIAG/TOROID/3GUN/CHARGE.TD'][:,480]])\n",
    "TrainID_charg=np.append(TrainID_charg, [f['FLASH.DIAG/TOROID/3GUN/TrainId'][:]])\n",
    "ENERGY_FLASH2=np.append(ENERGY_FLASH2,[f['FLASH.DIAG/BEAM_ENERGY_MEASUREMENT/FL2XTDS/ENERGY.FLASH2/Value'][:]])\n",
    "TrainId_energy=np.append(TrainId_energy, [f['FLASH.DIAG/BEAM_ENERGY_MEASUREMENT/FL2XTDS/ENERGY.FLASH2/TrainId'][:]])\n",
    "print(TrainId_BAMu.shape)\n",
    "##############################\n",
    "f=h5py.File('linac_main_run52036_file5194_20240227T153526.hdf5', 'r')\n",
    "\n",
    "BAM_UBC1=np.append(BAM_UBC1, [f['FLASH.SDIAG/BAM.DAQ/FL0.UBC1.ARRIVAL_TIME.RELATIVE/Value'][:, Id]]);\n",
    "BAM_UBC2=np.append(BAM_UBC2, [f['FLASH.SDIAG/BAM.DAQ/FL0.UBC2.ARRIVAL_TIME.RELATIVE/Value'][:, Id]]);\n",
    "TrainId_BAMu=np.append(TrainId_BAMu,[f['FLASH.SDIAG/BAM.DAQ/FL0.UBC1.ARRIVAL_TIME.RELATIVE/TrainId'][:]])\n",
    "TrainId_BAM2u=np.append(TrainId_BAM2u,[f['FLASH.SDIAG/BAM.DAQ/FL0.UBC2.ARRIVAL_TIME.RELATIVE/TrainId'][:]])\n",
    "####\n",
    "charge_gun3=np.append(charge_gun3,[f['FLASH.DIAG/TOROID/3GUN/CHARGE.TD'][:,480]])\n",
    "TrainID_charg=np.append(TrainID_charg, [f['FLASH.DIAG/TOROID/3GUN/TrainId'][:]])\n",
    "ENERGY_FLASH2=np.append(ENERGY_FLASH2,[f['FLASH.DIAG/BEAM_ENERGY_MEASUREMENT/FL2XTDS/ENERGY.FLASH2/Value'][:]])\n",
    "TrainId_energy=np.append(TrainId_energy, [f['FLASH.DIAG/BEAM_ENERGY_MEASUREMENT/FL2XTDS/ENERGY.FLASH2/TrainId'][:]])\n",
    "print(TrainId_BAMu.shape)"
   ]
  },
  {
   "cell_type": "code",
   "execution_count": 140,
   "id": "35879ccd-38f3-4477-b5c6-9fff1dc1104d",
   "metadata": {},
   "outputs": [
    {
     "data": {
      "text/plain": [
       "716"
      ]
     },
     "execution_count": 140,
     "metadata": {},
     "output_type": "execute_result"
    }
   ],
   "source": [
    "len(TrainID_charg)"
   ]
  },
  {
   "cell_type": "code",
   "execution_count": 48,
   "id": "326e52e4-2975-4d89-839b-676713ba1357",
   "metadata": {},
   "outputs": [
    {
     "data": {
      "text/plain": [
       "(array([55]),)"
      ]
     },
     "execution_count": 48,
     "metadata": {},
     "output_type": "execute_result"
    }
   ],
   "source": [
    "f=h5py.File('linac_main_run52036_file5192_20240227T153444.hdf5', 'r')\n",
    "np.where(f['FLASH.DIAG/BEAM_ENERGY_MEASUREMENT/FL2XTDS/ENERGY.FLASH2/TrainId'][:]==1942832578)"
   ]
  },
  {
   "cell_type": "code",
   "execution_count": 49,
   "id": "6a3da367-7bf0-4d83-8bd9-b027c2a54eac",
   "metadata": {},
   "outputs": [],
   "source": [
    "Ind=55\n",
    "#f=h5py.File('linac_main_run52036_file5188', 'r')\n",
    "BAM_UBC1=np.append(BAM_UBC1, [f['FLASH.SDIAG/BAM.DAQ/FL0.UBC1.ARRIVAL_TIME.RELATIVE/Value'][0:Ind, Id]]);\n",
    "BAM_UBC2=np.append(BAM_UBC1, [f['FLASH.SDIAG/BAM.DAQ/FL0.UBC2.ARRIVAL_TIME.RELATIVE/Value'][0:Ind, Id]]);\n",
    "TrainId_BAMu=np.append(TrainId_BAMu,[f['FLASH.SDIAG/BAM.DAQ/FL0.UBC1.ARRIVAL_TIME.RELATIVE/TrainId'][0:Ind]])\n",
    "TrainId_BAM2u=np.append(TrainId_BAM2u,[f['FLASH.SDIAG/BAM.DAQ/FL0.UBC2.ARRIVAL_TIME.RELATIVE/TrainId'][0:Ind]])\n",
    "########\n",
    "charge_gun3=np.append(charge_gun3,[f['FLASH.DIAG/TOROID/3GUN/CHARGE.TD'][0:Ind,480]])\n",
    "TrainID_charg=np.append(TrainID_charg, [f['FLASH.DIAG/TOROID/3GUN/TrainId'][0:Ind]])\n",
    "ENERGY_FLASH2=np.append(ENERGY_FLASH2,[f['FLASH.DIAG/BEAM_ENERGY_MEASUREMENT/FL2XTDS/ENERGY.FLASH2/Value'][0:Ind]])\n",
    "TrainId_energy=np.append(TrainId_energy, [f['FLASH.DIAG/BEAM_ENERGY_MEASUREMENT/FL2XTDS/ENERGY.FLASH2/TrainId'][0:Ind]])"
   ]
  },
  {
   "cell_type": "code",
   "execution_count": 121,
   "id": "aed728c4-1c61-4c70-adb4-4c6e8fcd63a9",
   "metadata": {},
   "outputs": [
    {
     "data": {
      "text/plain": [
       "(716,)"
      ]
     },
     "execution_count": 121,
     "metadata": {},
     "output_type": "execute_result"
    }
   ],
   "source": [
    "TrainId_BAMu.shape"
   ]
  },
  {
   "cell_type": "code",
   "execution_count": 122,
   "id": "746859f6-df86-4056-a688-9c12115eebc4",
   "metadata": {},
   "outputs": [
    {
     "data": {
      "text/plain": [
       "1942833291"
      ]
     },
     "execution_count": 122,
     "metadata": {},
     "output_type": "execute_result"
    }
   ],
   "source": []
  },
  {
   "cell_type": "code",
   "execution_count": 36,
   "id": "6e1f1dde-76e0-4467-a658-7094ae441fdb",
   "metadata": {},
   "outputs": [
    {
     "data": {
      "text/plain": [
       "1942831157"
      ]
     },
     "execution_count": 36,
     "metadata": {},
     "output_type": "execute_result"
    }
   ],
   "source": [
    "##1942833286\n",
    "#f['FLASH.DIAG/BEAM_ENERGY_MEASUREMENT/FL2XTDS/ENERGY.FLASH2/TrainId'][188]"
   ]
  },
  {
   "cell_type": "code",
   "execution_count": 53,
   "id": "12ad0e0d-6313-44ee-8331-83ddf493d735",
   "metadata": {},
   "outputs": [],
   "source": [
    "#filename='dataset4.hdf5'\n",
    "#f = h5py.File(filename, 'w')"
   ]
  },
  {
   "cell_type": "code",
   "execution_count": 90,
   "id": "0be0d500-6832-4a06-ac5b-7acbd2574b31",
   "metadata": {},
   "outputs": [],
   "source": [
    "#dset = f.create_dataset('BAM_UBC1', data=BAM_UBC1)\n",
    "#dset = f.create_dataset('BAM_UBC2', data=BAM_UBC2)\n",
    "#dset = f.create_dataset('TrainId_BAMu', data=TrainId_BAMu)\n",
    "#dset = f.create_dataset('TrainId_BAM2u', data=TrainId_BAM2u)\n",
    "#dset = f.create_dataset('charge_gun3', data=charge_gun3)\n",
    "#dset = f.create_dataset('TrainID_charg', data=TrainID_charg)\n",
    "#dset = f.create_dataset('ENERGY_FLASH2', data=ENERGY_FLASH2)\n",
    "#dset = f.create_dataset('TrainId_energy', data=TrainId_energy)\n",
    "f.close()"
   ]
  },
  {
   "cell_type": "code",
   "execution_count": 55,
   "id": "7b88c07a-ff55-452b-a896-2207efd670a0",
   "metadata": {},
   "outputs": [],
   "source": [
    "#f = h5py.File(filename, 'r')"
   ]
  },
  {
   "cell_type": "code",
   "execution_count": 56,
   "id": "28de6590-5000-49c2-8fcd-9423c47f214f",
   "metadata": {},
   "outputs": [
    {
     "data": {
      "text/plain": [
       "<KeysViewHDF5 ['BAM_UBC1', 'BAM_UBC2', 'ENERGY_FLASH2', 'TrainID_charg', 'TrainId_BAM2u', 'TrainId_BAMu', 'TrainId_energy', 'charge_gun3']>"
      ]
     },
     "execution_count": 56,
     "metadata": {},
     "output_type": "execute_result"
    }
   ],
   "source": [
    "#f.keys()"
   ]
  },
  {
   "cell_type": "code",
   "execution_count": 153,
   "id": "e72e9797-1df5-4590-8a2a-41ff70ee8d9f",
   "metadata": {},
   "outputs": [],
   "source": [
    "f.close()\n",
    "import tables\n",
    "tables.file._open_files.close_all()"
   ]
  },
  {
   "cell_type": "code",
   "execution_count": 58,
   "id": "908ef190-ba78-47e0-bda5-3fe490f6138b",
   "metadata": {},
   "outputs": [],
   "source": [
    "### manipulate the VRFD file "
   ]
  },
  {
   "cell_type": "code",
   "execution_count": null,
   "id": "8adaf199-c163-4b3f-a8b2-3e955b95108d",
   "metadata": {},
   "outputs": [],
   "source": []
  },
  {
   "cell_type": "code",
   "execution_count": 141,
   "id": "c47f0da6-4173-4810-9a20-198b6a285084",
   "metadata": {},
   "outputs": [],
   "source": [
    "f=h5py.File('PBD2_VRFD_pbd2_stream_6_run52040_file117_20240227T153436.hdf5', 'r+')"
   ]
  },
  {
   "cell_type": "code",
   "execution_count": 142,
   "id": "ea30f9ff-8682-468e-a854-c13340d2b78f",
   "metadata": {},
   "outputs": [
    {
     "data": {
      "text/plain": [
       "<KeysViewHDF5 ['FLASH.DIAG', 'FLASH.SDIAG']>"
      ]
     },
     "execution_count": 142,
     "metadata": {},
     "output_type": "execute_result"
    }
   ],
   "source": [
    "f.keys()"
   ]
  },
  {
   "cell_type": "code",
   "execution_count": 129,
   "id": "dad98a47-591e-43c3-9f6b-4c7d90636c77",
   "metadata": {},
   "outputs": [
    {
     "name": "stdout",
     "output_type": "stream",
     "text": [
      "<KeysViewHDF5 ['BAM.DAQ', 'BCM.DAQ']>\n"
     ]
    }
   ],
   "source": [
    "print(f['FLASH.SDIAG'].keys())"
   ]
  },
  {
   "cell_type": "code",
   "execution_count": 130,
   "id": "ae9ce9bc-bc86-4ebf-abb5-ae0023d2f205",
   "metadata": {},
   "outputs": [],
   "source": [
    "dset = f.create_dataset('FLASH.SDIAG/BAM.DAQ/FL0.UBC1.ARRIVAL_TIME.RELATIVE/Value',   data=BAM_UBC1[:])\n",
    "dset = f.create_dataset('FLASH.SDIAG/BAM.DAQ/FL0.UBC1.ARRIVAL_TIME.RELATIVE/TrainId', data=TrainId_BAMu[:])\n",
    "dset = f.create_dataset('FLASH.SDIAG/BAM.DAQ/FL0.UBC2.ARRIVAL_TIME.RELATIVE/Value',   data=BAM_UBC2[:])\n",
    "dset = f.create_dataset('FLASH.SDIAG/BAM.DAQ/FL0.UBC2.ARRIVAL_TIME.RELATIVE/TrainId', data=TrainId_BAM2u[:])\n",
    "dset = f.create_dataset('FLASH.DIAG/TOROID/Gun3/Value',     data=charge_gun3[:])\n",
    "dset = f.create_dataset('FLASH.DIAG/TOROID/Gun3/TrainID',   data=TrainID_charg[:])\n",
    "dset = f.create_dataset('FLASH.DIAG/ENERGY_FLASH2/TrainID', data=TrainId_energy[:])\n",
    "dset = f.create_dataset('FLASH.DIAG/ENERGY_FLASH2/Value',   data=ENERGY_FLASH2[:])"
   ]
  },
  {
   "cell_type": "code",
   "execution_count": 143,
   "id": "50701868-bc8e-4c99-8513-0e6421dc5f91",
   "metadata": {},
   "outputs": [],
   "source": [
    "del f['FLASH.DIAG/TOROID/Gun3/Value']\n",
    "del f['FLASH.DIAG/TOROID/Gun3/TrainID']\n",
    "\n",
    "dset = f.create_dataset('FLASH.DIAG/TOROID/Gun3/Value',     data=charge_gun3[:])\n",
    "dset = f.create_dataset('FLASH.DIAG/TOROID/Gun3/TrainID',   data=TrainID_charg[:])"
   ]
  },
  {
   "cell_type": "code",
   "execution_count": 144,
   "id": "24bcd555-5412-4522-8f7a-851703259d4e",
   "metadata": {},
   "outputs": [
    {
     "data": {
      "text/plain": [
       "[<matplotlib.lines.Line2D at 0x7fdf0c9eb7c0>]"
      ]
     },
     "execution_count": 144,
     "metadata": {},
     "output_type": "execute_result"
    },
    {
     "data": {
      "image/png": "[encoded data removed]",
      "text/plain": [
       "<Figure size 640x480 with 1 Axes>"
      ]
     },
     "metadata": {},
     "output_type": "display_data"
    }
   ],
   "source": [
    "plt.plot(f['FLASH.DIAG/ENERGY_FLASH2/Value'][:])"
   ]
  },
  {
   "cell_type": "code",
   "execution_count": 147,
   "id": "101258dc-a380-4cb5-b2aa-dab669b2bb7a",
   "metadata": {},
   "outputs": [
    {
     "data": {
      "text/plain": [
       "[<matplotlib.lines.Line2D at 0x7fdef09ebb80>]"
      ]
     },
     "execution_count": 147,
     "metadata": {},
     "output_type": "execute_result"
    },
    {
     "data": {
      "image/png": "[encoded data removed]",
      "text/plain": [
       "<Figure size 640x480 with 1 Axes>"
      ]
     },
     "metadata": {},
     "output_type": "display_data"
    }
   ],
   "source": [
    "plt.plot(f['FLASH.DIAG/TOROID/Gun3/TrainID'][:],f['FLASH.DIAG/TOROID/Gun3/Value'][:], '.')"
   ]
  },
  {
   "cell_type": "code",
   "execution_count": 133,
   "id": "c1af784c-d2de-4a8b-8569-fc428445a855",
   "metadata": {},
   "outputs": [
    {
     "data": {
      "text/plain": [
       "<KeysViewHDF5 ['FL0.DBC1.ARRIVAL_TIME.RELATIVE', 'FL0.DBC2.ARRIVAL_TIME.RELATIVE', 'FL0.UBC1.ARRIVAL_TIME.RELATIVE', 'FL0.UBC2.ARRIVAL_TIME.RELATIVE', 'FL2.SEED5.ARRIVAL_TIME.RELATIVE']>"
      ]
     },
     "execution_count": 133,
     "metadata": {},
     "output_type": "execute_result"
    }
   ],
   "source": [
    "f['FLASH.SDIAG/BAM.DAQ'].keys()"
   ]
  },
  {
   "cell_type": "code",
   "execution_count": 154,
   "id": "a7071ded-5138-4864-b115-1c8ff56f4e42",
   "metadata": {},
   "outputs": [],
   "source": [
    "f.close()"
   ]
  },
  {
   "cell_type": "code",
   "execution_count": null,
   "id": "f4c50a22-2feb-4e44-81a7-2beff4b5983d",
   "metadata": {},
   "outputs": [],
   "source": []
  }
 ],
 "metadata": {
  "kernelspec": {
   "display_name": "Python 3 (ipykernel)",
   "language": "python",
   "name": "python3"
  },
  "language_info": {
   "codemirror_mode": {
    "name": "ipython",
    "version": 3
   },
   "file_extension": ".py",
   "mimetype": "text/x-python",
   "name": "python",
   "nbconvert_exporter": "python",
   "pygments_lexer": "ipython3",
   "version": "3.8.18"
  }
 },
 "nbformat": 4,
 "nbformat_minor": 5
}
