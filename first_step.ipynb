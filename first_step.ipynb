{
 "cells": [
  {
   "cell_type": "code",
   "execution_count": 46,
   "id": "postal-beaver",
   "metadata": {},
   "outputs": [],
   "source": [
    "import time\n",
    "#import pydoocs\n",
    "import numpy as np\n",
    "import matplotlib.pyplot as plt\n",
    "import h5py\n",
    "import pandas as pd\n",
    "#import cv2\n",
    "import seaborn as sns\n",
    "import struct\n",
    "import pprint"
   ]
  },
  {
   "cell_type": "code",
   "execution_count": 47,
   "id": "balanced-windows",
   "metadata": {},
   "outputs": [],
   "source": [
    "f=h5py.File('PBD2_VRFD_pbd2_stream_6_run52040_file117_20240227T153436.hdf5', 'r')"
   ]
  },
  {
   "cell_type": "code",
   "execution_count": 48,
   "id": "married-month",
   "metadata": {},
   "outputs": [
    {
     "data": {
      "text/plain": [
       "<KeysViewHDF5 ['FLASH.DIAG', 'FLASH.FEL', 'FLASH.MAGNETS', 'FLASH.RF', 'FLASH.SDIAG']>"
      ]
     },
     "execution_count": 48,
     "metadata": {},
     "output_type": "execute_result"
    }
   ],
   "source": [
    "f.keys()"
   ]
  },
  {
   "cell_type": "code",
   "execution_count": 49,
   "id": "criminal-payday",
   "metadata": {},
   "outputs": [
    {
     "data": {
      "text/plain": [
       "<KeysViewHDF5 ['BPM', 'CAMERA', 'TOROID']>"
      ]
     },
     "execution_count": 49,
     "metadata": {},
     "output_type": "execute_result"
    }
   ],
   "source": [
    "f['FLASH.DIAG'].keys()"
   ]
  },
  {
   "cell_type": "code",
   "execution_count": 50,
   "id": "posted-peeing",
   "metadata": {},
   "outputs": [
    {
     "data": {
      "text/plain": [
       "<KeysViewHDF5 ['BUNCH_VALID.TD', 'CHARGE.TD', 'TimeStamp', 'TrainId', 'X.TD', 'Y.TD']>"
      ]
     },
     "execution_count": 50,
     "metadata": {},
     "output_type": "execute_result"
    }
   ],
   "source": [
    "f['FLASH.DIAG/BPM/9FL2XTDS'].keys()"
   ]
  },
  {
   "cell_type": "code",
   "execution_count": 51,
   "id": "pretty-ranch",
   "metadata": {},
   "outputs": [
    {
     "name": "stdout",
     "output_type": "stream",
     "text": [
      "1942833284\n",
      "1942832577\n",
      "1942833284\n",
      "1942832577\n",
      "1942832579\n",
      "1942833286\n"
     ]
    }
   ],
   "source": [
    "#TrainId=f['FLASH.DIAG/BPM/9FL2XTDS/TrainId']\n",
    "print(f['FLASH.DIAG/BPM/9FL2XTDS/TrainId'][-1])\n",
    "print(f['FLASH.DIAG/BPM/9FL2XTDS/TrainId'][0])\n",
    "print(f['FLASH.DIAG/BPM/9FL2XTDS/TrainId'][-1])\n",
    "print(f['FLASH.DIAG/BPM/9FL2XTDS/TrainId'][0])\n",
    "print(f['FLASH.DIAG/CAMERA/OTR9FL2XTDS/TrainId'][0])\n",
    "print(f['FLASH.DIAG/CAMERA/OTR9FL2XTDS/TrainId'][-1])"
   ]
  },
  {
   "cell_type": "code",
   "execution_count": 30,
   "id": "willing-giant",
   "metadata": {},
   "outputs": [
    {
     "name": "stdout",
     "output_type": "stream",
     "text": [
      "1942832574\n",
      "(710,)\n"
     ]
    }
   ],
   "source": [
    "#print(TrainId[707])\n",
    "#print(TrainId.shape)"
   ]
  },
  {
   "cell_type": "code",
   "execution_count": 31,
   "id": "super-walnut",
   "metadata": {},
   "outputs": [
    {
     "data": {
      "text/plain": [
       "<HDF5 dataset \"BUNCH_VALID.TD\": shape (710, 2048), type \"<f4\">"
      ]
     },
     "execution_count": 31,
     "metadata": {},
     "output_type": "execute_result"
    }
   ],
   "source": [
    "f['FLASH.DIAG/BPM/9FL2XTDS/BUNCH_VALID.TD']"
   ]
  },
  {
   "cell_type": "code",
   "execution_count": 32,
   "id": "designing-lover",
   "metadata": {},
   "outputs": [],
   "source": [
    "#plt.plot(f['FLASH.DIAG/BPM/9FL2XTDS/BUNCH_VALID.TD'][1,:], 'o')\n",
    "#np.nonzero(f['FLASH.DIAG/BPM/9FL2XTDS/Y.TD'][2])"
   ]
  },
  {
   "cell_type": "code",
   "execution_count": 33,
   "id": "rotary-result",
   "metadata": {},
   "outputs": [
    {
     "data": {
      "text/plain": [
       "<HDF5 dataset \"CHARGE.TD\": shape (710, 2048), type \"<f4\">"
      ]
     },
     "execution_count": 33,
     "metadata": {},
     "output_type": "execute_result"
    }
   ],
   "source": [
    "f['FLASH.DIAG/BPM/9FL2XTDS/CHARGE.TD']"
   ]
  },
  {
   "cell_type": "code",
   "execution_count": 34,
   "id": "practical-concord",
   "metadata": {},
   "outputs": [
    {
     "data": {
      "text/plain": [
       "<HDF5 dataset \"X.TD\": shape (710, 2048), type \"<f4\">"
      ]
     },
     "execution_count": 34,
     "metadata": {},
     "output_type": "execute_result"
    }
   ],
   "source": [
    "f['FLASH.DIAG/BPM/9FL2XTDS/X.TD']"
   ]
  },
  {
   "cell_type": "code",
   "execution_count": 52,
   "id": "minute-relation",
   "metadata": {},
   "outputs": [
    {
     "data": {
      "text/plain": [
       "[<matplotlib.lines.Line2D at 0x7f90437d9400>]"
      ]
     },
     "execution_count": 52,
     "metadata": {},
     "output_type": "execute_result"
    },
    {
     "data": {
      "image/png": "[encoded data removed]",
      "text/plain": [
       "<Figure size 640x480 with 1 Axes>"
      ]
     },
     "metadata": {},
     "output_type": "display_data"
    }
   ],
   "source": [
    "plt.plot(f['FLASH.DIAG/BPM/9FL2XTDS/X.TD'][2], 'o')"
   ]
  },
  {
   "cell_type": "code",
   "execution_count": 53,
   "id": "authentic-confidence",
   "metadata": {},
   "outputs": [
    {
     "name": "stdout",
     "output_type": "stream",
     "text": [
      "(array([480, 481, 482]),)\n",
      "480\n"
     ]
    }
   ],
   "source": [
    "LL=np.nonzero(f['FLASH.DIAG/BPM/9FL2XTDS/X.TD'][2,:])\n",
    "print(LL)\n",
    "print(LL[0][0])"
   ]
  },
  {
   "cell_type": "code",
   "execution_count": 54,
   "id": "breeding-republican",
   "metadata": {},
   "outputs": [],
   "source": [
    "#plt.plot(f['FLASH.DIAG/BPM/9FL2XTDS/CHARGE.TD'][2], 'o')"
   ]
  },
  {
   "cell_type": "code",
   "execution_count": 55,
   "id": "supposed-behalf",
   "metadata": {},
   "outputs": [
    {
     "data": {
      "text/plain": [
       "array([0.31847534, 0.3234589 , 0.32137924], dtype=float32)"
      ]
     },
     "execution_count": 55,
     "metadata": {},
     "output_type": "execute_result"
    }
   ],
   "source": [
    "f['FLASH.DIAG/BPM/9FL2XTDS/CHARGE.TD'][1,np.nonzero(f['FLASH.DIAG/BPM/9FL2XTDS/CHARGE.TD'][1,:])[0]]"
   ]
  },
  {
   "cell_type": "code",
   "execution_count": 56,
   "id": "assumed-plane",
   "metadata": {},
   "outputs": [],
   "source": [
    "# we collect the image for first bunch id= 480 \n",
    "# let have another notebook ==> secondS"
   ]
  },
  {
   "cell_type": "code",
   "execution_count": 63,
   "id": "smooth-moscow",
   "metadata": {},
   "outputs": [],
   "source": [
    "f.close()"
   ]
  },
  {
   "cell_type": "code",
   "execution_count": 14,
   "id": "champion-hamburg",
   "metadata": {},
   "outputs": [
    {
     "data": {
      "text/plain": [
       "<Closed HDF5 file>"
      ]
     },
     "execution_count": 14,
     "metadata": {},
     "output_type": "execute_result"
    }
   ],
   "source": [
    "f"
   ]
  },
  {
   "cell_type": "code",
   "execution_count": 59,
   "id": "dynamic-rider",
   "metadata": {},
   "outputs": [
    {
     "data": {
      "text/plain": [
       "<bound method File.close of <Closed HDF5 file>>"
      ]
     },
     "execution_count": 59,
     "metadata": {},
     "output_type": "execute_result"
    }
   ],
   "source": [
    "f.close"
   ]
  },
  {
   "cell_type": "code",
   "execution_count": 16,
   "id": "e7a0fc64-6f61-4c2c-9373-1d06e7b6a5c2",
   "metadata": {},
   "outputs": [
    {
     "data": {
      "text/plain": [
       "<Closed HDF5 file>"
      ]
     },
     "execution_count": 16,
     "metadata": {},
     "output_type": "execute_result"
    }
   ],
   "source": [
    "f"
   ]
  },
  {
   "cell_type": "code",
   "execution_count": null,
   "id": "b97924e5-4144-4de1-b3ec-875d36764751",
   "metadata": {},
   "outputs": [],
   "source": []
  }
 ],
 "metadata": {
  "kernelspec": {
   "display_name": "Python 3 (ipykernel)",
   "language": "python",
   "name": "python3"
  },
  "language_info": {
   "codemirror_mode": {
    "name": "ipython",
    "version": 3
   },
   "file_extension": ".py",
   "mimetype": "text/x-python",
   "name": "python",
   "nbconvert_exporter": "python",
   "pygments_lexer": "ipython3",
   "version": "3.8.18"
  }
 },
 "nbformat": 4,
 "nbformat_minor": 5
}
